{
  "nbformat": 4,
  "nbformat_minor": 0,
  "metadata": {
    "colab": {
      "provenance": [],
      "include_colab_link": true
    },
    "kernelspec": {
      "name": "python3",
      "display_name": "Python 3"
    },
    "language_info": {
      "name": "python"
    }
  },
  "cells": [
    {
      "cell_type": "markdown",
      "metadata": {
        "id": "view-in-github",
        "colab_type": "text"
      },
      "source": [
        "<a href=\"https://colab.research.google.com/github/mohwarsame273/Medium-Articles/blob/main/Copy_of_AI_Quickstart_with_OpenAI_%26_Langchain_with_Python_CreateBot_based_on_Multiple_PDFs.ipynb\" target=\"_parent\"><img src=\"https://colab.research.google.com/assets/colab-badge.svg\" alt=\"Open In Colab\"/></a>"
      ]
    },
    {
      "cell_type": "markdown",
      "source": [
        "# THANKS FOR THE INSPIRATION \n",
        "\n",
        "Original Author: https://twitter.com/virattt/status/1644329667673878528\n",
        "@virattt\n",
        "\n",
        "Get more like this: http://www.twitter.com/attractfunding \n",
        "\n",
        "## MOTIVATION\n",
        "\n",
        "The world needs more humility\n",
        "when facing The Mystery.\n",
        "\n",
        "So, I leveraged \n",
        "@virattt\n",
        "'s tutorial to make a Chatbot based on a body of knowledge consisting of multiple PDFs.\n",
        "\n",
        "Stack: \n",
        "· OpenAI\n",
        "· LangchainAI\n",
        "· PineCone\n",
        "· Python\n",
        "· Google Colab"
      ],
      "metadata": {
        "id": "izrmHMujQkRs"
      }
    },
    {
      "cell_type": "markdown",
      "source": [
        "---"
      ],
      "metadata": {
        "id": "MN7gQ1LbeMS2"
      }
    },
    {
      "cell_type": "markdown",
      "source": [
        "# Let's install everything we need"
      ],
      "metadata": {
        "id": "9u5dVHeRHMd0"
      }
    },
    {
      "cell_type": "code",
      "source": [
        "!pip install openai"
      ],
      "metadata": {
        "id": "ChczDoWMzQKo"
      },
      "execution_count": null,
      "outputs": []
    },
    {
      "cell_type": "code",
      "source": [
        "!pip install langchain"
      ],
      "metadata": {
        "id": "80mR-KZhvC5W"
      },
      "execution_count": null,
      "outputs": []
    },
    {
      "cell_type": "code",
      "source": [
        "pip install pinecone-client"
      ],
      "metadata": {
        "id": "wpAJ1lO8xtyZ"
      },
      "execution_count": null,
      "outputs": []
    },
    {
      "cell_type": "code",
      "source": [
        "from langchain.vectorstores import Chroma, Pinecone\n",
        "from langchain.embeddings.openai import OpenAIEmbeddings\n",
        "from tqdm.autonotebook import tqdm\n",
        "import openai \n",
        "import pinecone\n",
        "import os"
      ],
      "metadata": {
        "id": "emj_s1XvxCf2"
      },
      "execution_count": null,
      "outputs": []
    },
    {
      "cell_type": "code",
      "execution_count": null,
      "metadata": {
        "id": "14DP3CO3usrR"
      },
      "outputs": [],
      "source": [
        "from langchain.document_loaders import PyPDFLoader\n",
        "from langchain.text_splitter import RecursiveCharacterTextSplitter"
      ]
    },
    {
      "cell_type": "code",
      "source": [
        "!pip install pypdf"
      ],
      "metadata": {
        "colab": {
          "base_uri": "https://localhost:8080/"
        },
        "id": "pySlqOMfw2Tg",
        "outputId": "a475705d-909d-4a14-bdfb-2f6b4e501c69"
      },
      "execution_count": null,
      "outputs": [
        {
          "output_type": "stream",
          "name": "stdout",
          "text": [
            "Looking in indexes: https://pypi.org/simple, https://us-python.pkg.dev/colab-wheels/public/simple/\n",
            "Requirement already satisfied: pypdf in /usr/local/lib/python3.9/dist-packages (3.7.0)\n",
            "Requirement already satisfied: typing_extensions>=3.10.0.0 in /usr/local/lib/python3.9/dist-packages (from pypdf) (4.5.0)\n"
          ]
        }
      ]
    },
    {
      "cell_type": "markdown",
      "source": [
        "---"
      ],
      "metadata": {
        "id": "GkKl-ov8ePgo"
      }
    },
    {
      "cell_type": "markdown",
      "source": [
        "# Let's set up our environment variables for OpenAI & Pinecone\n",
        "\n",
        "#### I found this part a bit tricky - I'm leaving all options on the table here just in case you run into environment API key errors. "
      ],
      "metadata": {
        "id": "bWseeOptHaZe"
      }
    },
    {
      "cell_type": "code",
      "source": [
        "os.environ[\"OPENAI_API_KEY\"] = ''\n",
        "os.environ[\"PINECONE_API_KEY\"] = ''\n",
        "os.environ[\"PINECONE_API_ENV\"] = ''"
      ],
      "metadata": {
        "id": "sjLwvXbTIbF2"
      },
      "execution_count": null,
      "outputs": []
    },
    {
      "cell_type": "code",
      "source": [
        "OPENAI_API_KEY = os.environ.get('')\n",
        "PINECONE_API_KEY = os.environ.get('')\n",
        "PINECONE_API_ENV = os.environ.get('')"
      ],
      "metadata": {
        "id": "NMDUs0H6x1fv"
      },
      "execution_count": null,
      "outputs": []
    },
    {
      "cell_type": "code",
      "source": [
        "%env OPENAI_API_KEY="
      ],
      "metadata": {
        "id": "UVdiT3xRy-mV"
      },
      "execution_count": null,
      "outputs": []
    },
    {
      "cell_type": "code",
      "source": [
        "%env PINECONE_API_ENV="
      ],
      "metadata": {
        "id": "L8wmPYNI1Ihq"
      },
      "execution_count": null,
      "outputs": []
    },
    {
      "cell_type": "code",
      "source": [
        "%env PINECONE_API_KEY="
      ],
      "metadata": {
        "id": "dinCgohj1Rpo"
      },
      "execution_count": null,
      "outputs": []
    },
    {
      "cell_type": "markdown",
      "source": [
        "---"
      ],
      "metadata": {
        "id": "kNXwtLZCJVz0"
      }
    },
    {
      "cell_type": "markdown",
      "source": [
        "# Let's Load in the PDFs"
      ],
      "metadata": {
        "id": "KYxxPIlPHiNX"
      }
    },
    {
      "cell_type": "code",
      "source": [
        "pdfs = [\n",
        "    \"/content/SteppingOutOfSelfDeceptionRodneyStephens1.pdf\", # Notes from Stepping out of Self-Deception by Rodney Stephens 1\n",
        "    \"/content/SteppingOutOfSelfDeceptionRodneyStephens2.pdf\", # Notes from Stepping out of Self-Deception by Rodney Stephens 2\n",
        "    \"/content/SteppingOutOfSelfDeceptionRodneyStephens3.pdf\", # Notes from Stepping out of Self-Deception by Rodney Stephens 3\n",
        "]"
      ],
      "metadata": {
        "id": "vSEeURnBvKMZ"
      },
      "execution_count": null,
      "outputs": []
    },
    {
      "cell_type": "code",
      "source": [
        "annual_reports = []\n",
        "for pdf in pdfs:\n",
        "    loader = PyPDFLoader(pdf)\n",
        "    # Load the PDF document\n",
        "    document = loader.load()        \n",
        "    # Add the loaded document to our list\n",
        "    annual_reports.append(document)"
      ],
      "metadata": {
        "id": "DCR4upw5wusr"
      },
      "execution_count": null,
      "outputs": []
    },
    {
      "cell_type": "markdown",
      "source": [
        "---"
      ],
      "metadata": {
        "id": "ivYizYlIeRAF"
      }
    },
    {
      "cell_type": "markdown",
      "source": [
        "# Let's split the PDF into chunks"
      ],
      "metadata": {
        "id": "ixCI_qliTsAP"
      }
    },
    {
      "cell_type": "code",
      "source": [
        "text_splitter = RecursiveCharacterTextSplitter(chunk_size=500, chunk_overlap=0)\n",
        "\n",
        "chunked_annual_reports = []\n",
        "for annual_report in annual_reports:\n",
        "    # Chunk the annual_report\n",
        "    texts = text_splitter.split_documents(annual_report)\n",
        "    # Add the chunks to chunked_annual_reports, which is a list of lists\n",
        "    chunked_annual_reports.append(texts)\n",
        "    print(f\"chunked_annual_report length: {len(texts)}\")"
      ],
      "metadata": {
        "id": "njELwwkfxAkR"
      },
      "execution_count": null,
      "outputs": []
    },
    {
      "cell_type": "code",
      "source": [
        "print(chunked_annual_reports)"
      ],
      "metadata": {
        "id": "_hu9ZU9SHpvT"
      },
      "execution_count": null,
      "outputs": []
    },
    {
      "cell_type": "markdown",
      "source": [
        "----"
      ],
      "metadata": {
        "id": "1JX-wfpaeSQ3"
      }
    },
    {
      "cell_type": "markdown",
      "source": [
        "# This is where the magic us. This is where you connect the chunks of data to a Pinecone Vector Database so that you can use OpenAI/ChatGPT to have a chatbot leveraging the dataset."
      ],
      "metadata": {
        "id": "bdrv8gEgTw7o"
      }
    },
    {
      "cell_type": "code",
      "source": [
        "embeddings = OpenAIEmbeddings(openai_api_key=OPENAI_API_KEY)"
      ],
      "metadata": {
        "id": "xmci1lNtyyUs"
      },
      "execution_count": null,
      "outputs": []
    },
    {
      "cell_type": "code",
      "source": [
        "print(embeddings)"
      ],
      "metadata": {
        "id": "6nY3SsaJ91fM"
      },
      "execution_count": null,
      "outputs": []
    },
    {
      "cell_type": "markdown",
      "source": [
        "Remember to enter your pinecone index name below"
      ],
      "metadata": {
        "id": "ihEgcp_FsJDk"
      }
    },
    {
      "cell_type": "code",
      "source": [
        "# Initialize Pinecone\n",
        "pinecone.init(\n",
        "    api_key=PINECONE_API_KEY,\n",
        "    environment=PINECONE_API_ENV\n",
        ")\n",
        "index_name = \"ENTER_PINECONE_INDEX_NAME_HERE\""
      ],
      "metadata": {
        "id": "gtjdNMo4zWyL"
      },
      "execution_count": null,
      "outputs": []
    },
    {
      "cell_type": "markdown",
      "source": [
        "Remember to enter your pinecone api and pinecone environment below"
      ],
      "metadata": {
        "id": "cx6mU8zpNOwJ"
      }
    },
    {
      "cell_type": "code",
      "source": [
        "pinecone.init(api_key=\"ENTER_PINECONE_API_KEY_HERE\", environment=\"ENTER_PINECONE_ENVIRONMENT_HERE\")"
      ],
      "metadata": {
        "id": "vyFNMBR8MdYb"
      },
      "execution_count": null,
      "outputs": []
    },
    {
      "cell_type": "markdown",
      "source": [
        "Remember to enter your pinecone index name below"
      ],
      "metadata": {
        "id": "V6Em_8FvsMw6"
      }
    },
    {
      "cell_type": "code",
      "source": [
        "index = pinecone.Index(\"ENTER_PINECONE_INDEX_NAME_HERE\")\n",
        "vectorstore = Pinecone(index, embeddings.embed_query, \"text\")"
      ],
      "metadata": {
        "id": "uvTBRG9wM-vh"
      },
      "execution_count": null,
      "outputs": []
    },
    {
      "cell_type": "code",
      "source": [
        "!pip install tiktoken"
      ],
      "metadata": {
        "id": "I6qHOeteNTnf"
      },
      "execution_count": null,
      "outputs": []
    },
    {
      "cell_type": "code",
      "source": [
        "# Upsert annual reports to Pinecone via LangChain.\n",
        "# There's likely a better way to do this instead of Pinecone.from_texts()\n",
        "for chunks in chunked_annual_reports:\n",
        "    Pinecone.from_texts([chunk.page_content for chunk in chunks], embeddings, index_name=index_name)"
      ],
      "metadata": {
        "id": "dySXW4JSzebs"
      },
      "execution_count": null,
      "outputs": []
    },
    {
      "cell_type": "code",
      "source": [
        "vectorstore = Pinecone.from_existing_index(index_name=index_name, embedding=embeddings)"
      ],
      "metadata": {
        "id": "Ijhg6oPhNhKR"
      },
      "execution_count": null,
      "outputs": []
    },
    {
      "cell_type": "code",
      "source": [
        "print(vectorstore)"
      ],
      "metadata": {
        "id": "oODaxFMeNijy"
      },
      "execution_count": null,
      "outputs": []
    },
    {
      "cell_type": "code",
      "source": [
        "from langchain.chains import ConversationalRetrievalChain\n",
        "from langchain.text_splitter import CharacterTextSplitter\n",
        "from langchain.llms import OpenAI"
      ],
      "metadata": {
        "id": "qrevGTBHNkE1"
      },
      "execution_count": null,
      "outputs": []
    },
    {
      "cell_type": "code",
      "source": [
        "# Create the chain\n",
        "qa = ConversationalRetrievalChain.from_llm(\n",
        "    llm=OpenAI(temperature=0), \n",
        "    retriever=vectorstore.as_retriever(),\n",
        "    return_source_documents=True,\n",
        ")"
      ],
      "metadata": {
        "id": "SYEgPZNDNtxN"
      },
      "execution_count": null,
      "outputs": []
    },
    {
      "cell_type": "code",
      "source": [
        "# Initialize chat history list\n",
        "chat_history = []"
      ],
      "metadata": {
        "id": "rvU9rw15Nupt"
      },
      "execution_count": null,
      "outputs": []
    },
    {
      "cell_type": "markdown",
      "source": [
        "# Let's start Chatting"
      ],
      "metadata": {
        "id": "-cwEUy83T9eH"
      }
    },
    {
      "cell_type": "code",
      "source": [
        "query = \"What is the source of depression?\"\n",
        "result = qa({\"question\": query, \"chat_history\": chat_history})\n",
        "result[\"answer\"]\n",
        "chat_history.append((query, result[\"answer\"]))"
      ],
      "metadata": {
        "colab": {
          "base_uri": "https://localhost:8080/",
          "height": 53
        },
        "id": "YF0M4M3gNwwn",
        "outputId": "f07269d9-8028-4ea2-b7e5-0e926fada454"
      },
      "execution_count": null,
      "outputs": [
        {
          "output_type": "execute_result",
          "data": {
            "text/plain": [
              "' Depression can come from conditioned patterns, self-deprecating commentary, and self-deception.'"
            ],
            "application/vnd.google.colaboratory.intrinsic+json": {
              "type": "string"
            }
          },
          "metadata": {},
          "execution_count": 217
        }
      ]
    },
    {
      "cell_type": "code",
      "source": [
        "query = \"what is this data about?\"\n",
        "result = qa({\"question\": query, \"chat_history\": chat_history})\n",
        "result[\"answer\"]\n",
        "chat_history.append((query, result[\"answer\"]))"
      ],
      "metadata": {
        "colab": {
          "base_uri": "https://localhost:8080/",
          "height": 107
        },
        "id": "24J221dWN59b",
        "outputId": "dee43650-fce1-491a-96cf-bf517bca5b30"
      },
      "execution_count": null,
      "outputs": [
        {
          "output_type": "execute_result",
          "data": {
            "text/plain": [
              "' This data is about the qualities that persist after all the practice we have done, and the understanding that begins to surface that all pressure to change crates the backlash of its opposite. It is also about the first sobering acknowledgement of the inherent limitation of the forms of self-effort and a rudimentary sense of what we are ourselves.'"
            ],
            "application/vnd.google.colaboratory.intrinsic+json": {
              "type": "string"
            }
          },
          "metadata": {},
          "execution_count": 219
        }
      ]
    },
    {
      "cell_type": "code",
      "source": [
        "query = \"provide a few emotional quotes from the data\"\n",
        "result = qa({\"question\": query, \"chat_history\": chat_history})\n",
        "result[\"answer\"]\n",
        "chat_history.append((query, result[\"answer\"]))"
      ],
      "metadata": {
        "colab": {
          "base_uri": "https://localhost:8080/",
          "height": 35
        },
        "id": "pE6MS1-KONbE",
        "outputId": "39d6fe69-2641-4ff6-cd5c-134759a061a6"
      },
      "execution_count": null,
      "outputs": [
        {
          "output_type": "execute_result",
          "data": {
            "text/plain": [
              "\" I don't know.\""
            ],
            "application/vnd.google.colaboratory.intrinsic+json": {
              "type": "string"
            }
          },
          "metadata": {},
          "execution_count": 220
        }
      ]
    },
    {
      "cell_type": "code",
      "source": [
        "query = \"write a 100-word essay about this data and its implication for startup founders\"\n",
        "result = qa({\"question\": query, \"chat_history\": chat_history})\n",
        "result[\"answer\"]\n",
        "chat_history.append((query, result[\"answer\"]))"
      ],
      "metadata": {
        "colab": {
          "base_uri": "https://localhost:8080/",
          "height": 303
        },
        "id": "iy78KbyqOV1y",
        "outputId": "13d4aa31-d126-4c06-c6db-c556f1924250"
      },
      "execution_count": null,
      "outputs": [
        {
          "output_type": "execute_result",
          "data": {
            "text/plain": [
              "'\\n\\nStartup founders often face a lot of external forces that can be difficult to manage. Instead of relying on traditional methods of accountability, it is important to look at the underlying emotions that drive our need to escape. When our minds wander during business meetings, we should ask ourselves what emotion is driving the need to escape. We can then use this knowledge to activate our interest and surrender all forms of resistance and protest to the conditions here and now. Surrendering can be simpler than it seems, as it involves continuously giving up our sense of separateness and all within its definitions. \\n\\nThis data has important implications for startup founders. It suggests that instead of relying on traditional methods of accountability, they should focus on understanding the underlying emotions that drive their need to escape. By recognizing and accepting these emotions, they can use them to activate their interest and surrender all forms of resistance and protest to the conditions here and now. This will help them to better manage the external forces they face and create a more productive and successful business.'"
            ],
            "application/vnd.google.colaboratory.intrinsic+json": {
              "type": "string"
            }
          },
          "metadata": {},
          "execution_count": 221
        }
      ]
    },
    {
      "cell_type": "code",
      "source": [
        "query = \"write a 100-word essay about this data from the perspective of a Venture Capitalist presenting to his investors after the great langchain crash of 2023\"\n",
        "result = qa({\"question\": query, \"chat_history\": chat_history})\n",
        "result[\"answer\"]\n",
        "chat_history.append((query, result[\"answer\"]))"
      ],
      "metadata": {
        "colab": {
          "base_uri": "https://localhost:8080/",
          "height": 268
        },
        "id": "ur4JfXJTOwbN",
        "outputId": "e116e7c1-4d29-4280-eaa5-f1c4b1977ece"
      },
      "execution_count": null,
      "outputs": [
        {
          "output_type": "execute_result",
          "data": {
            "text/plain": [
              "'\\n\\nIt has been two years since the great langchain crash of 2023, and the effects are still being felt. The crash was caused by a market-driven economy that promoted feelings of incompleteness until people bought certain products, together with a lifetime of comparisons and evaluations on every front. This sense of incompleteness changed over time into a strong sense of inadequacy and low self-esteem.\\n\\nAs a venture capitalist, I have seen firsthand the consequences of this crash. Companies that relied on the langchain have gone bankrupt, and many people have lost their jobs. The crash has also had a profound effect on our language and our view of reality. Words and views are now seen as approximations or symbols of reality, and we use them as a guide towards the real dimension.\\n\\nThe lesson to be learned from this crash is that we must be mindful of our spiritual intention and the interconnectedness of all things. We must be aware of the power of words and views, and how they can shape our character and our perception of reality. We must also be aware of the dangers of a market-driven economy that promotes feelings of incompleteness.\\n\\nThe great langchain crash of 2023 has taught us a valuable lesson, and it'"
            ],
            "application/vnd.google.colaboratory.intrinsic+json": {
              "type": "string"
            }
          },
          "metadata": {},
          "execution_count": 222
        }
      ]
    },
    {
      "cell_type": "code",
      "source": [
        "query = \"write a 100-word essay about this data from the perspective of a Teacher teaching her 8-year old students about Buddhism and its relation to Christianity\"\n",
        "result = qa({\"question\": query, \"chat_history\": chat_history})\n",
        "result[\"answer\"]\n",
        "chat_history.append((query, result[\"answer\"]))"
      ],
      "metadata": {
        "colab": {
          "base_uri": "https://localhost:8080/",
          "height": 268
        },
        "id": "4RAKK2tZPPKe",
        "outputId": "066d7d3d-ad5e-419a-aaea-84b3bbd9181c"
      },
      "execution_count": null,
      "outputs": [
        {
          "output_type": "execute_result",
          "data": {
            "text/plain": [
              "\"\\n\\nBuddhism and Christianity are two of the world's most popular religions. They both have a strong focus on spiritual growth and understanding of the world around us. Buddhism emphasizes the importance of meditation and mindfulness, while Christianity emphasizes the importance of faith and prayer.\\n\\nAs a teacher, I often explain to my 8-year old students the similarities and differences between Buddhism and Christianity. I explain that both religions have a strong focus on spiritual growth and understanding of the world around us. I also explain that the only way to commune with God is by going to church or taking a walk in nature.\\n\\nI also explain the Eightfold Path and Wise View, which are two of the core teachings of Buddhism. I explain that the Eightfold Path is the true and natural way things inherently are, and that when perceptions are freed from opinions, there is a natural realignment to drop the object of our wrath and connect with emotion.\\n\\nFinally, I explain the self-righteousness of anger and how it makes it very difficult to let it go. I explain that we love the power of being right, perhaps even more than we loathe the burning pain of the anger. I explain that this righteousness is the poison of anger, with its\""
            ],
            "application/vnd.google.colaboratory.intrinsic+json": {
              "type": "string"
            }
          },
          "metadata": {},
          "execution_count": 223
        }
      ]
    },
    {
      "cell_type": "code",
      "source": [
        "query = \"using passages of text from the data, write a 100-word essay about this data from the perspective of a Venture Capitalist presenting to his investors after the great langchain crash of 2023\"\n",
        "result = qa({\"question\": query, \"chat_history\": chat_history})\n",
        "result[\"answer\"]\n",
        "chat_history.append((query, result[\"answer\"]))"
      ],
      "metadata": {
        "colab": {
          "base_uri": "https://localhost:8080/",
          "height": 268
        },
        "id": "MW12Q_S9Pkrf",
        "outputId": "6723e122-90ad-459d-ffcf-d5040edb13b3"
      },
      "execution_count": null,
      "outputs": [
        {
          "output_type": "execute_result",
          "data": {
            "text/plain": [
              "' As a Venture Capitalist, I have seen the effects of the great langchain crash of 2023 firsthand. The crash was caused by a market-driven economy that promoted feelings of incompleteness until people bought certain products. This sense of incompleteness changed over time into a strong sense of inadequacy and low self-esteem. This had a devastating effect on the language viewpoint, as our character develops over the course of time as long as our spiritual intention is wise. \\n\\nThe crash has taught us that words and views are only approximations or symbols of reality. We must use them as a guide towards the real dimension, but eventually the words and views that direct our practice must come to an end. We must learn to strengthen our sense of self without relying on mental control. \\n\\nThe great langchain crash of 2023 has been a wake-up call for us all. We must learn to be mindful of our words and views, and to be aware of the interconnectedness of all things. We must strive to develop our character naturally, without relying on external sources. Only then can we be certain that we will age with a strong sense of self-worth and self-esteem.'"
            ],
            "application/vnd.google.colaboratory.intrinsic+json": {
              "type": "string"
            }
          },
          "metadata": {},
          "execution_count": 224
        }
      ]
    },
    {
      "cell_type": "code",
      "source": [
        "query = \"using passages of text from the data, write a 100-word essay about Worthum, an Outcome-Oriented firm based on Bangalore lead by Manish Andankar that leverages Wardley Mapping to lead product-oriented teams into a world where langchain is taking over\"\n",
        "result = qa({\"question\": query, \"chat_history\": chat_history})\n",
        "result[\"answer\"]\n",
        "chat_history.append((query, result[\"answer\"]))"
      ],
      "metadata": {
        "colab": {
          "base_uri": "https://localhost:8080/",
          "height": 268
        },
        "id": "UEbiLBqIQ4KT",
        "outputId": "89b45a03-626d-4bd6-b888-74a685a3bc6a"
      },
      "execution_count": null,
      "outputs": [
        {
          "output_type": "execute_result",
          "data": {
            "text/plain": [
              "\"\\n\\nWorthum is an Outcome-Oriented firm based in Bangalore, lead by Manish Andankar. At Worthum, they leverage Wardley Mapping to lead product-oriented teams into a world where langchain is taking over. Langchain is a new technology that uses words and views as symbols of reality, allowing us to use them as markers towards the virtual dimension.\\n\\nAt Worthum, they understand that arguing with what is, is pointless. Instead, they focus on thought-based actions that are often in protest to what is, and once they have assumed that this protest is true, they will have the accompanying emotions of that assumption and will act in accordance with those emotions.\\n\\nWorthum also understands that our character develops over the course of time as long as our spiritual intention is wise. They don't take developing our character as a separate task, but rather as something that will grow naturally upon following the inclination of our heart.\\n\\nAt Worthum, they strive to maintain presence and understand that when our intention is to do so, we become increasingly aware of the language we are using. Suddenly, the words we are using no longer match our consciousness, and in that moment the body feels a shift in energy. It\""
            ],
            "application/vnd.google.colaboratory.intrinsic+json": {
              "type": "string"
            }
          },
          "metadata": {},
          "execution_count": 225
        }
      ]
    }
  ]
}